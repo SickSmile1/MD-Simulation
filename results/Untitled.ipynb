{
 "cells": [
  {
   "cell_type": "code",
   "execution_count": 1,
   "id": "43e15557",
   "metadata": {},
   "outputs": [],
   "source": [
    "import numpy as np\n",
    "a = np.array([ [1, 2],[3, 4]])\n",
    "b = np.arange(1,6)\n",
    "c=np.eye(3),\n",
    "d=np.ones((2, 5))\n",
    "e=np.zeros(a.shape)"
   ]
  },
  {
   "cell_type": "code",
   "execution_count": 2,
   "id": "faf431fb",
   "metadata": {},
   "outputs": [
    {
     "name": "stdout",
     "output_type": "stream",
     "text": [
      "[[ 7 10]\n",
      " [15 22]]\n"
     ]
    }
   ],
   "source": [
    "a_dot = np.dot(a,a)\n",
    "print(a_dot)"
   ]
  },
  {
   "cell_type": "code",
   "execution_count": 4,
   "id": "6f7cfd35",
   "metadata": {},
   "outputs": [
    {
     "name": "stdout",
     "output_type": "stream",
     "text": [
      "[[ 1  4]\n",
      " [ 9 16]]\n"
     ]
    }
   ],
   "source": [
    "a_mult = np.multiply(a,a)\n",
    "print(a_mult)"
   ]
  },
  {
   "cell_type": "code",
   "execution_count": 6,
   "id": "a71fc40b",
   "metadata": {},
   "outputs": [
    {
     "name": "stdout",
     "output_type": "stream",
     "text": [
      "[1 3]\n"
     ]
    }
   ],
   "source": [
    "f = a[:,0]\n",
    "print(f)"
   ]
  },
  {
   "cell_type": "code",
   "execution_count": 7,
   "id": "9085040a",
   "metadata": {},
   "outputs": [
    {
     "name": "stdout",
     "output_type": "stream",
     "text": [
      "[ 7 15] [10 14] [10 14]\n"
     ]
    }
   ],
   "source": [
    "print(a@f,f@a,f.T@a)"
   ]
  },
  {
   "cell_type": "code",
   "execution_count": null,
   "id": "fcce6180",
   "metadata": {},
   "outputs": [],
   "source": []
  }
 ],
 "metadata": {
  "kernelspec": {
   "display_name": "Python 3 (ipykernel)",
   "language": "python",
   "name": "python3"
  },
  "language_info": {
   "codemirror_mode": {
    "name": "ipython",
    "version": 3
   },
   "file_extension": ".py",
   "mimetype": "text/x-python",
   "name": "python",
   "nbconvert_exporter": "python",
   "pygments_lexer": "ipython3",
   "version": "3.12.3"
  }
 },
 "nbformat": 4,
 "nbformat_minor": 5
}
